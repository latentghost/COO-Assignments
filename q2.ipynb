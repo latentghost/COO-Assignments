{
 "cells": [
  {
   "cell_type": "code",
   "execution_count": 117,
   "metadata": {},
   "outputs": [],
   "source": [
    "import numpy as np\n",
    "import matplotlib.pyplot as plt\n",
    "import cvxpy as cp"
   ]
  },
  {
   "cell_type": "markdown",
   "metadata": {},
   "source": [
    "### Defining the variables\n",
    "&nbsp;&nbsp;&nbsp;&nbsp;&nbsp;&nbsp;**u** = (u<sub>1</sub>,u<sub>2</sub>)  \n",
    "&nbsp;&nbsp;&nbsp;&nbsp;&nbsp;&nbsp;**d** = (3.5,2)  \n"
   ]
  },
  {
   "cell_type": "code",
   "execution_count": 118,
   "metadata": {},
   "outputs": [],
   "source": [
    "d = np.array([3.5,2])\n",
    "u = cp.Variable(2)"
   ]
  },
  {
   "cell_type": "markdown",
   "metadata": {},
   "source": [
    "### Defining the Inequality Constraints\n",
    "&nbsp;&nbsp;&nbsp;&nbsp;&nbsp;&nbsp;*f<sub>1</sub>(u): &nbsp;&nbsp; u<sub>1</sub> + 2u<sub>2</sub> <= 12*  \n",
    "&nbsp;&nbsp;&nbsp;&nbsp;&nbsp;&nbsp;*f<sub>2</sub>(u): &nbsp;&nbsp; 2u<sub>1</sub> + u<sub>2</sub> <= 12*  \n",
    "&nbsp;&nbsp;&nbsp;&nbsp;&nbsp;&nbsp;*f<sub>3</sub>(u): &nbsp;&nbsp; u<sub>1</sub> >= d<sub>1</sub>*  \n",
    "&nbsp;&nbsp;&nbsp;&nbsp;&nbsp;&nbsp;*f<sub>4</sub>(u): &nbsp;&nbsp; u<sub>2</sub> >= d<sub>2</sub>*  "
   ]
  },
  {
   "cell_type": "code",
   "execution_count": 119,
   "metadata": {},
   "outputs": [],
   "source": [
    "fi = [\n",
    "    u[0]+2*u[1]<=12,\n",
    "    2*u[0]+u[1]<=12,\n",
    "    u[0]>=d[0],\n",
    "    u[1]>=d[1]\n",
    "]"
   ]
  },
  {
   "cell_type": "markdown",
   "metadata": {},
   "source": [
    "### Defining the Objective Function\n",
    "\n",
    "&nbsp;&nbsp;&nbsp;&nbsp;&nbsp;&nbsp;*f<sub>0</sub>(u): &nbsp; log(u<sub>1</sub> - d<sub>1</sub>) + log(u<sub>2</sub> - d<sub>2</sub>)*  \n",
    "\n",
    "The solution of the problem **u**<sub>opt</sub> is defined as:  \n",
    "\n",
    "&nbsp;&nbsp;&nbsp;&nbsp;&nbsp;&nbsp;**u** <sub>opt</sub> = argmax *f<sub>0</sub>(u)* &nbsp;&nbsp;&nbsp; such that **u** <sub>opt</sub> ∈ *F*  \n",
    "\n",
    "&nbsp;&nbsp;&nbsp;&nbsp;&nbsp;&nbsp; subject to *f<sub>i</sub>*(*u*) <= 0 &nbsp;&nbsp;&nbsp;&nbsp;&nbsp;&nbsp;&nbsp;&nbsp;&nbsp;&nbsp;&nbsp;&nbsp; *i = 1,2,...,m*"
   ]
  },
  {
   "cell_type": "code",
   "execution_count": 120,
   "metadata": {},
   "outputs": [],
   "source": [
    "f0 = cp.Maximize(cp.log(u[0] - d[0]) + cp.log(u[1] - d[1]))"
   ]
  },
  {
   "cell_type": "markdown",
   "metadata": {},
   "source": [
    "### Primal Optimal Value\n",
    "Primal Optimal Value is the extremum (in this case maximum) of the objective function i.e. *f<sub>0</sub>*(***u***<sub>*opt*</sub>).  \n",
    "\n",
    "**u**<sub>opt</sub> = (4.2499, 3.5000)  \n",
    "\n",
    "*f<sub>0</sub>*(***u***<sub>*opt*</sub>) = 0.117783  "
   ]
  },
  {
   "cell_type": "code",
   "execution_count": 121,
   "metadata": {},
   "outputs": [
    {
     "name": "stdout",
     "output_type": "stream",
     "text": [
      "Primal Optimal value of f₀(u) = 0.11778302006338115\n",
      "Optimal \u001b[1mu\u001b[0m = (4.24999993461712, 3.500000107376267)\n"
     ]
    }
   ],
   "source": [
    "problem = cp.Problem(f0,fi)\n",
    "problem.solve()\n",
    "\n",
    "print(\"Primal Optimal value of f\\u2080(u) = {:}\".format(problem.value))\n",
    "print(\"Optimal \\033[1mu\\033[0m = ({:}, {:})\".format(u[0].value,u[1].value))"
   ]
  },
  {
   "cell_type": "markdown",
   "metadata": {},
   "source": [
    "### Dual Problem\n",
    "Define dual variables *v<sub>1</sub>, v<sub>2</sub>, v<sub>3</sub>, v<sub>4</sub>* associated with inequalities *f<sub>1</sub>, f<sub>2</sub>, f<sub>3</sub>, f<sub>4</sub>* respectively.  \n",
    "\n",
    "Define Langrangian L(*u<sub>1</sub>,u<sub>2</sub>,v<sub>1</sub>,v<sub>2</sub>,v<sub>3</sub>,v<sub>4</sub>*) = *log(u<sub>1</sub> - d<sub>1</sub>) + log(u<sub>2</sub> - d<sub>2</sub>) + v<sub>1</sub>(12 - u<sub>1</sub> - 2u<sub>2</sub>) + v<sub>2</sub>(12 - 2u<sub>1</sub> - u<sub>2</sub>) + v<sub>3</sub>(u<sub>1</sub> - d<sub>1</sub>) + v<sub>4</sub>(u<sub>2</sub> - d<sub>2</sub>)*  \n",
    "\n",
    "Dual Problem minimises the Langrangian subject to the Primal problem's constraints.  \n",
    "\n",
    "Taking the partial derivate of the Langrangian w.r.t *u<sub>1</sub>* and *u<sub>2</sub>*:  \n",
    "\n",
    "∂L/∂*u<sub>1</sub>* = 0  \n",
    "1/(*u<sub>1</sub>* - *d<sub>1</sub>*) - *v<sub>1</sub>* - 2*v<sub>2</sub>* + *v<sub>3</sub>* = 0  \n",
    "\n",
    "∂L/∂*u<sub>2</sub>* = 0  \n",
    "1/(*u<sub>2</sub>* - *d<sub>2</sub>*) - 2*v<sub>1</sub>* - *v<sub>2</sub>* + *v<sub>4</sub>* = 0  \n",
    "\n",
    "Solving for *u<sub>1</sub> and u<sub>2</sub>* and substituting in the Langrangian gives the extremum of the objective function subject to *v<sub>1</sub>, v<sub>2</sub>, v<sub>3</sub>, v<sub>4</sub>* >= 0.  \n",
    "\n",
    "Solving this dual problem gives the dual variables associated with each constraint.  "
   ]
  },
  {
   "cell_type": "code",
   "execution_count": 122,
   "metadata": {},
   "outputs": [
    {
     "name": "stdout",
     "output_type": "stream",
     "text": [
      "Optimal dual variables: \n",
      "     f₁(u) = 3.6166849623599824e-09\n",
      "     f₂(u) = 0.6666667547894941\n",
      "     f₃(u) = 3.2025660895117705e-09\n",
      "     f₄(u) = 1.5362072965007218e-09\n"
     ]
    }
   ],
   "source": [
    "print(\"Optimal dual variables: \")\n",
    "print(\"     f\\u2081(u) = {:}\".format(fi[0].dual_value))\n",
    "print(\"     f\\u2082(u) = {:}\".format(fi[1].dual_value))\n",
    "print(\"     f\\u2083(u) = {:}\".format(fi[2].dual_value))\n",
    "print(\"     f\\u2084(u) = {:}\".format(fi[3].dual_value))"
   ]
  },
  {
   "cell_type": "markdown",
   "metadata": {},
   "source": [
    "### Comparative Statics\n",
    "Fixing *d<sub>2</sub>* at 2 and varying *d<sub>1</sub>* over the interval [2,5] gives the solutions of the new problem (*u<sub>1</sub>, u<sub>2</sub>*) for each pair of (*d<sub>1</sub>, d<sub>2</sub>*).  \n",
    "\n"
   ]
  },
  {
   "cell_type": "code",
   "execution_count": 123,
   "metadata": {},
   "outputs": [],
   "source": [
    "d_b = np.array([np.linspace(2,5,100), np.ones(100)*2])\n",
    "u_arr = np.zeros((2,100))\n",
    "\n",
    "for i in range(100):\n",
    "    u_b = cp.Variable(2)\n",
    "    f0_b = cp.Maximize(cp.log(u_b[0] - d_b[0,i]) +  cp.log(u_b[1] - d_b[1,i]))\n",
    "\n",
    "    fi_b = [\n",
    "        u_b[0]+2*u_b[1]<=12,\n",
    "        2*u_b[0]+u_b[1]<=12,\n",
    "        u_b[0]>=d_b[0,i],\n",
    "        u_b[1]>=d_b[1,i]\n",
    "    ]\n",
    "\n",
    "    problem = cp.Problem(f0_b, fi_b)\n",
    "    problem.solve()\n",
    "\n",
    "    u_arr[:, i] = u_b.value\n"
   ]
  },
  {
   "cell_type": "markdown",
   "metadata": {},
   "source": [
    "Plot for *u<sub>1</sub>* and *u<sub>2</sub>* varying with *d<sub>1</sub>* varying over [2,5]:"
   ]
  },
  {
   "cell_type": "code",
   "execution_count": 129,
   "metadata": {},
   "outputs": [
    {
     "data": {
      "image/png": "[encoded data removed]",
      "text/plain": [
       "<Figure size 432x288 with 1 Axes>"
      ]
     },
     "metadata": {
      "needs_background": "light"
     },
     "output_type": "display_data"
    }
   ],
   "source": [
    "plt.plot(d_b[0],u_arr[0], label = 'u\\u2081')\n",
    "plt.plot(d_b[0],u_arr[1], label = 'u\\u2082')\n",
    "plt.xlabel('d\\u2081')\n",
    "plt.ylabel('u')\n",
    "plt.legend()\n",
    "plt.show()"
   ]
  }
 ],
 "metadata": {
  "interpreter": {
   "hash": "aee8b7b246df8f9039afb4144a1f6fd8d2ca17a180786b69acc140d282b71a49"
  },
  "kernelspec": {
   "display_name": "Python 3.10.4 64-bit",
   "language": "python",
   "name": "python3"
  },
  "language_info": {
   "codemirror_mode": {
    "name": "ipython",
    "version": 3
   },
   "file_extension": ".py",
   "mimetype": "text/x-python",
   "name": "python",
   "nbconvert_exporter": "python",
   "pygments_lexer": "ipython3",
   "version": "3.10.4"
  },
  "orig_nbformat": 4
 },
 "nbformat": 4,
 "nbformat_minor": 2
}
