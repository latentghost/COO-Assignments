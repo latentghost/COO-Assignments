{
 "cells": [
  {
   "cell_type": "code",
   "execution_count": 64,
   "metadata": {},
   "outputs": [],
   "source": [
    "import numpy as np\n",
    "import matplotlib.pyplot as plt\n",
    "import cvxpy as cp"
   ]
  },
  {
   "cell_type": "markdown",
   "metadata": {},
   "source": [
    "### Defining the variables\n",
    "&nbsp;&nbsp;&nbsp;&nbsp;&nbsp;&nbsp;**u** = (u1,u2)  \n",
    "&nbsp;&nbsp;&nbsp;&nbsp;&nbsp;&nbsp;**d** = (3.5,2)  \n"
   ]
  },
  {
   "cell_type": "code",
   "execution_count": 65,
   "metadata": {},
   "outputs": [],
   "source": [
    "d = np.array([3.5,2])\n",
    "u = cp.Variable(2)"
   ]
  },
  {
   "cell_type": "markdown",
   "metadata": {},
   "source": [
    "### Defining the Inequality Constraints\n",
    "&nbsp;&nbsp;&nbsp;&nbsp;&nbsp;&nbsp;*f<sub>1</sub>(u): &nbsp;&nbsp; u<sub>1</sub> + 2u<sub>2</sub> <= 12*  \n",
    "&nbsp;&nbsp;&nbsp;&nbsp;&nbsp;&nbsp;*f<sub>2</sub>(u): &nbsp;&nbsp; 2u<sub>1</sub> + u<sub>2</sub> <= 12*  \n",
    "&nbsp;&nbsp;&nbsp;&nbsp;&nbsp;&nbsp;*f<sub>3</sub>(u): &nbsp;&nbsp; u<sub>1</sub> >= d<sub>1</sub>*  \n",
    "&nbsp;&nbsp;&nbsp;&nbsp;&nbsp;&nbsp;*f<sub>4</sub>(u): &nbsp;&nbsp; u<sub>2</sub> >= d<sub>2</sub>*  "
   ]
  },
  {
   "cell_type": "code",
   "execution_count": 66,
   "metadata": {},
   "outputs": [],
   "source": [
    "fi = [\n",
    "    u[0]+2*u[1]<=12,\n",
    "    2*u[0]+u[1]<=12,\n",
    "    u[0]>=d[0],\n",
    "    u[1]>=d[1]\n",
    "]"
   ]
  },
  {
   "cell_type": "markdown",
   "metadata": {},
   "source": [
    "### Defining the Objective Function\n",
    "\n",
    "&nbsp;&nbsp;&nbsp;&nbsp;&nbsp;&nbsp;*f<sub>0</sub>(u): &nbsp; -(log(u<sub>1</sub> - d<sub>1</sub>) + log(u<sub>2</sub> - d<sub>2</sub>))*  \n",
    "\n",
    "The solution of the problem **u**<sub>opt</sub> is defined as:  \n",
    "\n",
    "&nbsp;&nbsp;&nbsp;&nbsp;&nbsp;&nbsp;**u** <sub>opt</sub> = argmin *f<sub>0</sub>(u)* &nbsp;&nbsp;&nbsp; such that **u** <sub>opt</sub> ∈ *F*  \n",
    "\n",
    "&nbsp;&nbsp;&nbsp;&nbsp;&nbsp;&nbsp; subject to *f<sub>i</sub>*(*u*) <= 0 &nbsp;&nbsp;&nbsp;&nbsp;&nbsp;&nbsp;&nbsp;&nbsp;&nbsp;&nbsp;&nbsp;&nbsp; *i = 1,2,...,m*"
   ]
  },
  {
   "cell_type": "code",
   "execution_count": 67,
   "metadata": {},
   "outputs": [],
   "source": [
    "f0 = cp.Maximize(cp.log(u[0] - d[0]) + cp.log(u[1] - d[1]))"
   ]
  },
  {
   "cell_type": "code",
   "execution_count": 68,
   "metadata": {},
   "outputs": [
    {
     "name": "stdout",
     "output_type": "stream",
     "text": [
      "Optimal value of f₀(u) = 0.1178\n",
      "Optimal \u001b[1mu\u001b[0m = (4.2500, 3.5000)\n",
      "Optimal dual variables: \n",
      "     f₁(u) = 3.6166849623599824e-09\n",
      "     f₂(u) = 0.6666667547894941\n",
      "     f₃(u) = 3.2025660895117705e-09\n",
      "     f₄(u) = 1.5362072965007218e-09\n"
     ]
    }
   ],
   "source": [
    "problem = cp.Problem(f0,fi)\n",
    "problem.solve()\n",
    "\n",
    "print(\"Optimal value of f\\u2080(u) = {:.4f}\".format(problem.value))\n",
    "print(\"Optimal \\033[1mu\\033[0m = ({:.4f}, {:.4f})\".format(u[0].value,u[1].value))\n",
    "print(\"Optimal dual variables: \")\n",
    "print(\"     f\\u2081(u) = {:}\".format(fi[0].dual_value))\n",
    "print(\"     f\\u2082(u) = {:}\".format(fi[1].dual_value))\n",
    "print(\"     f\\u2083(u) = {:}\".format(fi[2].dual_value))\n",
    "print(\"     f\\u2084(u) = {:}\".format(fi[3].dual_value))"
   ]
  },
  {
   "cell_type": "code",
   "execution_count": null,
   "metadata": {},
   "outputs": [],
   "source": []
  }
 ],
 "metadata": {
  "interpreter": {
   "hash": "aee8b7b246df8f9039afb4144a1f6fd8d2ca17a180786b69acc140d282b71a49"
  },
  "kernelspec": {
   "display_name": "Python 3.10.4 64-bit",
   "language": "python",
   "name": "python3"
  },
  "language_info": {
   "codemirror_mode": {
    "name": "ipython",
    "version": 3
   },
   "file_extension": ".py",
   "mimetype": "text/x-python",
   "name": "python",
   "nbconvert_exporter": "python",
   "pygments_lexer": "ipython3",
   "version": "3.10.4"
  },
  "orig_nbformat": 4
 },
 "nbformat": 4,
 "nbformat_minor": 2
}
