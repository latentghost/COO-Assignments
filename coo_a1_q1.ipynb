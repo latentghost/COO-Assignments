{
  "cells": [
    {
      "cell_type": "code",
      "execution_count": 1,
      "metadata": {
        "id": "1_4WJXzCb6fh"
      },
      "outputs": [],
      "source": [
        "import matplotlib.pyplot as plt\n",
        "import numpy as np\n",
        "import math"
      ]
    },
    {
      "cell_type": "code",
      "execution_count": 2,
      "metadata": {
        "id": "PtqzfAMKcHK6"
      },
      "outputs": [],
      "source": [
        "# f(x) = x^2 + log(x)\n",
        "\n",
        "def fun(x):\n",
        "  return (x*x + math.log(x))\n",
        "\n",
        "\n",
        "# First Degree Taylor Polynomial of  f(x) = f(a) + f'(a).(x-a)  around x = a\n",
        "# For f(x) = x^2 + log(x),\n",
        "#     L(x) = a^2 + log(a) + (2a + 1/a).(x-a)\n",
        "\n",
        "# Given a = 1,\n",
        "#     L(x) = 1 + (2 + 1)(x-1)\n",
        "\n",
        "def lnrTaylor(x):\n",
        "  return (1 + 3*(x-1))\n",
        "\n",
        "\n",
        "# Second Degree Taylor Polynomial of  f(x) = f(a) + f'(a).(x-a) + f''(a)((x-a)^2)/2\n",
        "# For f(x) = x^2 + log(x),\n",
        "#     Q(x) = a^2 + log(a) + (2a + 1/a).(x-a) + (2 - 1/a^2)((x-a)^2)/2\n",
        "\n",
        "# Given a = 1,\n",
        "#     Q(x) = 1 + (2 + 1)(x-1) + (2 - 1)((x-1)^2)/2 = L(x) + (2 - 1)((x-1)^2)/2\n",
        "\n",
        "def quadTaylor(x):\n",
        "  return (lnrTaylor(x) + ((x-1)*(x-1))/2.0)"
      ]
    },
    {
      "cell_type": "code",
      "execution_count": 3,
      "metadata": {
        "id": "gIalCYQ0cHNY"
      },
      "outputs": [],
      "source": [
        "# x-axis range = [0,2]\n",
        "# Starting point of x-axis range assumed 0.001 since domain of log(x) is x>0\n",
        "xarr = np.arange(0.001,2,0.001)\n",
        "fx = []\n",
        "lx = []\n",
        "qx = []"
      ]
    },
    {
      "cell_type": "code",
      "execution_count": 4,
      "metadata": {
        "id": "hV-_viprcHuh"
      },
      "outputs": [],
      "source": [
        "for i in xarr:\n",
        "  fx.append(fun(i))\n",
        "  lx.append(lnrTaylor(i))\n",
        "  qx.append(quadTaylor(i))"
      ]
    },
    {
      "cell_type": "code",
      "execution_count": 5,
      "metadata": {
        "id": "I0PABfmolKLG"
      },
      "outputs": [
        {
          "data": {
            "image/png": "[encoded data removed]",
            "text/plain": [
              "<Figure size 432x288 with 1 Axes>"
            ]
          },
          "metadata": {
            "needs_background": "light"
          },
          "output_type": "display_data"
        }
      ],
      "source": [
        "plt.plot(xarr,fx,color='b',label='f(x)')\n",
        "plt.plot(xarr,lx,color='g',label='L(x)')\n",
        "plt.plot(xarr,qx,color='r',label='Q(x)')\n",
        "plt.legend()\n",
        "plt.xlabel(\"x\")\n",
        "plt.ylabel(\"Taylor Approximation\")\n",
        "plt.show()"
      ]
    },
    {
      "cell_type": "code",
      "execution_count": 6,
      "metadata": {
        "id": "5PG_5auIpefv"
      },
      "outputs": [],
      "source": [
        "# Define error functions eL(x) = f(x) - L(x)\n",
        "#                   and  eQ(x) = f(x) - Q(x)\n",
        "\n",
        "def el(x):\n",
        "  return (fun(x) - lnrTaylor(x))\n",
        "\n",
        "def eq(x):\n",
        "  return (fun(x) - quadTaylor(x))\n",
        "\n",
        "\n",
        "# Define functions f1(x) = eL(x)/(x-1)\n",
        "#             and  f2(x) = eQ(x)/(x-1)^2\n",
        "\n",
        "def f1(x):\n",
        "  return (el(x)/(float(x-1)))\n",
        "\n",
        "def f2(x):\n",
        "  return (eq(x)/(float((x-1)*(x-1))/2.0))"
      ]
    },
    {
      "cell_type": "code",
      "execution_count": 7,
      "metadata": {
        "id": "VmFVjB4TqnkL"
      },
      "outputs": [],
      "source": [
        "# er1[] --> array for eL(x)\n",
        "# er2[] --> array for eQ(x)\n",
        "\n",
        "er1 = []\n",
        "er2 = []"
      ]
    },
    {
      "cell_type": "code",
      "execution_count": 8,
      "metadata": {
        "id": "hrJrPJCPq5JC"
      },
      "outputs": [
        {
          "name": "stderr",
          "output_type": "stream",
          "text": [
            "/var/folders/fx/m8jghh2j0xn7xvzxjj0rz1sr0000gn/T/ipykernel_58601/4042175320.py:15: RuntimeWarning: invalid value encountered in double_scalars\n",
            "  return (el(x)/(float(x-1)))\n",
            "/var/folders/fx/m8jghh2j0xn7xvzxjj0rz1sr0000gn/T/ipykernel_58601/4042175320.py:18: RuntimeWarning: invalid value encountered in double_scalars\n",
            "  return (eq(x)/(float((x-1)*(x-1))/2.0))\n"
          ]
        }
      ],
      "source": [
        "for i in xarr:\n",
        "  er1.append(f1(i))\n",
        "  er2.append(f2(i))"
      ]
    },
    {
      "cell_type": "code",
      "execution_count": 9,
      "metadata": {
        "id": "K8c11D1drGr2"
      },
      "outputs": [
        {
          "data": {
            "image/png": "[encoded data removed]",
            "text/plain": [
              "<Figure size 432x288 with 1 Axes>"
            ]
          },
          "metadata": {
            "needs_background": "light"
          },
          "output_type": "display_data"
        }
      ],
      "source": [
        "plt.plot(xarr,er1,color='b',label='eL(x)/(x-1)')\n",
        "plt.plot(xarr,er2,color='r',label='eQ(x)/((x-1)^2)')\n",
        "plt.legend()\n",
        "plt.xlabel(\"x\")\n",
        "plt.ylabel(\"Error in Approximation\")\n",
        "plt.show()"
      ]
    }
  ],
  "metadata": {
    "colab": {
      "private_outputs": true,
      "provenance": []
    },
    "kernelspec": {
      "display_name": "Python 3",
      "name": "python3"
    },
    "language_info": {
      "codemirror_mode": {
        "name": "ipython",
        "version": 3
      },
      "file_extension": ".py",
      "mimetype": "text/x-python",
      "name": "python",
      "nbconvert_exporter": "python",
      "pygments_lexer": "ipython3",
      "version": "3.10.4"
    }
  },
  "nbformat": 4,
  "nbformat_minor": 0
}
