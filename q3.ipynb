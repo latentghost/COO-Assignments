{
 "cells": [
  {
   "cell_type": "code",
   "execution_count": 724,
   "metadata": {},
   "outputs": [],
   "source": [
    "import numpy as np\n",
    "from scipy.optimize import minimize"
   ]
  },
  {
   "cell_type": "markdown",
   "metadata": {},
   "source": [
    "### Defining the variables\n",
    "&nbsp;&nbsp;&nbsp;&nbsp;&nbsp;&nbsp;**u** = (u<sub>1</sub>,u<sub>2</sub>) *is initialised to (4,2)*  \n",
    "&nbsp;&nbsp;&nbsp;&nbsp;&nbsp;&nbsp;**d** = (d<sub>1</sub>,d<sub>2</sub>) *is set to (2,1)*  \n",
    "&nbsp;&nbsp;&nbsp;&nbsp;&nbsp;&nbsp;**T** *is initialised to 1.0*  \n",
    "&nbsp;&nbsp;&nbsp;&nbsp;&nbsp;&nbsp;**&eta;** *is the tolerance level for the interior point algorithm, and is set to 10<sup>-5</sup>*  \n",
    "&nbsp;&nbsp;&nbsp;&nbsp;&nbsp;&nbsp;**max_iter** *is the maximum number of iterations for the interior point algorithm, and is set to 1000*"
   ]
  },
  {
   "cell_type": "code",
   "execution_count": 725,
   "metadata": {},
   "outputs": [],
   "source": [
    "d = np.array([2,1])\n",
    "u = np.array([4,2])\n",
    "T = 1.0\n",
    "m = 4\n",
    "tolerance = 1e-5\n",
    "max_iter = 1000"
   ]
  },
  {
   "cell_type": "markdown",
   "metadata": {},
   "source": [
    "### Defining the constraints\n",
    "&nbsp;&nbsp;&nbsp;&nbsp;&nbsp;*f<sub>1</sub>*(***u***): -(12 - *u<sub>1</sub>* - 2*u<sub>2</sub>*) <= 0  \n",
    "&nbsp;&nbsp;&nbsp;&nbsp;&nbsp;*f<sub>2</sub>*(***u***): -(12 - *u<sub>2</sub>* - 2*u<sub>1</sub>*) <= 0  \n",
    "&nbsp;&nbsp;&nbsp;&nbsp;&nbsp;*f<sub>2</sub>*(***u***): -(*u<sub>1</sub>* - *d<sub>1</sub>*) <= 0  \n",
    "&nbsp;&nbsp;&nbsp;&nbsp;&nbsp;*f<sub>2</sub>*(***u***): -(*u<sub>2</sub>* - *d<sub>2</sub>*) <= 0  "
   ]
  },
  {
   "cell_type": "code",
   "execution_count": 726,
   "metadata": {},
   "outputs": [],
   "source": [
    "def c1(u):\n",
    "    return 12 - u[0] - 2*u[1]\n",
    "\n",
    "def c2(u):\n",
    "    return 12 - 2*u[0] - u[1]\n",
    "\n",
    "def c3(u):\n",
    "    return u[0] - d[0]\n",
    "\n",
    "def c4(u):\n",
    "    return u[1] - d[1]"
   ]
  },
  {
   "cell_type": "markdown",
   "metadata": {},
   "source": [
    "### Nash Welfare Function\n",
    "&nbsp;&nbsp;&nbsp;&nbsp;&nbsp;*f<sub>0</sub>(**u**)* = -(*log(u<sub>1</sub> - d<sub>1</sub>) + log(u<sub>2</sub> - d<sub>2</sub>)*)"
   ]
  },
  {
   "cell_type": "code",
   "execution_count": 727,
   "metadata": {},
   "outputs": [],
   "source": [
    "def f(u):\n",
    "    return -1*(np.log(u[0] - d[0]) + np.log(u[1] - d[1]))"
   ]
  },
  {
   "cell_type": "markdown",
   "metadata": {},
   "source": [
    "### Log-Barrier Function\n",
    "&nbsp;&nbsp;&nbsp;&nbsp;&nbsp;*B(**u**)* = **&Sigma;**<sub>i=1</sub><sup>m</sup>(-*log(-f<sub>i</sub>(**u**))*)"
   ]
  },
  {
   "cell_type": "code",
   "execution_count": 728,
   "metadata": {},
   "outputs": [],
   "source": [
    "def B(u):\n",
    "    constraints = [\n",
    "        12 - u[0] - 2*u[1],\n",
    "        12 - u[1] - 2*u[0],\n",
    "        u[0] - d[0],\n",
    "        u[1] - d[1]\n",
    "    ]\n",
    "    out = 0.0\n",
    "    for c in constraints:\n",
    "        out += np.log(c)\n",
    "    return -1*out"
   ]
  },
  {
   "cell_type": "markdown",
   "metadata": {},
   "source": [
    "Using the log-barrier function, an approximate counterpart of the original objective function (Nash Welfare function) can be defined as:  \n",
    "\n",
    "&nbsp;&nbsp;&nbsp;&nbsp;&nbsp;&phi;(***u***) = *f<sub>0</sub>(**u**)* + (*B(**u**)*)/**T**"
   ]
  },
  {
   "cell_type": "code",
   "execution_count": 729,
   "metadata": {},
   "outputs": [],
   "source": [
    "def phi(u,t1):\n",
    "    return (f(u) + (1.0/t1)*B(u))"
   ]
  },
  {
   "cell_type": "markdown",
   "metadata": {},
   "source": [
    "Define the gradient of &phi;(***u***) as the 2x1 matrix of its partial derivatives w.r.t **u**:  \n",
    "\n",
    "&nbsp;&nbsp;&nbsp;&nbsp;&nbsp;&nabla;&phi;(***u***) = [(∂&phi;(***u***) / ∂u<sub>1</sub>) , (∂&phi;(***u***) / ∂u<sub>2</sub>)]"
   ]
  },
  {
   "cell_type": "code",
   "execution_count": 730,
   "metadata": {},
   "outputs": [],
   "source": [
    "def grad_phi(u,t1):\n",
    "    return np.array([\n",
    "        (-1.0/(u[0]-d[0])) - (1.0/t1) * ((2.0/(12-u[0]-2*u[1])) + (2.0/(12-u[1]-2*u[0]))),\n",
    "        (-1.0/(u[1]-d[1])) - (1.0/t1) * ((2.0/(12-u[0]-2*u[1])) + (2.0/(12-u[1]-2*u[0])))\n",
    "    ])"
   ]
  },
  {
   "cell_type": "markdown",
   "metadata": {},
   "source": [
    "Define the Hessian of &phi;(***u***) as:  \n",
    "\n",
    "&nbsp;&nbsp;&nbsp;&nbsp;&nbsp;&nabla; <sup>2</sup>(&phi;(***u***)) =  \n",
    "\n",
    "&nbsp;&nbsp;&nbsp;&nbsp;&nbsp;&nbsp;&nbsp;&nbsp;&nbsp;&nbsp;**[**\n",
    "    (∂<sup>2</sup>&phi;(***u***) / ∂u<sub>1</sub><sup>2</sup>) , (∂<sup>2</sup>&phi;(***u***) / ∂u<sub>1</sub>u<sub>2</sub>)  \n",
    "    &nbsp;&nbsp;&nbsp;&nbsp;&nbsp;&nbsp;&nbsp;&nbsp;&nbsp;&nbsp; (∂<sup>2</sup>&phi;(***u***) / ∂u<sub>1</sub>u<sub>2</sub>) , (∂<sup>2</sup>&phi;(***u***) / ∂u<sub>2</sub><sup>2</sup>) **]**"
   ]
  },
  {
   "cell_type": "code",
   "execution_count": 731,
   "metadata": {},
   "outputs": [],
   "source": [
    "def hess_phi(u,t1):\n",
    "    return np.array([\n",
    "        [(1.0/(u[0]-d[0])**2) + 2.0/t1*((2.0/(12-u[0]-2*u[1])**2) + (2.0/(12-u[1]-2*u[0])**2)), \n",
    "         4.0/t1*(1.0/(12-u[0]-2*u[1])**2) - 2.0/(u[0]-d[0])**2], \n",
    "        [4.0/t1*(1.0/(12-u[1]-2*u[0])**2) - 2.0/(u[1]-d[1])**2, \n",
    "         (1.0/(u[1]-d[1])**2) + 2.0/t1*((2.0/(12-u[0]-2*u[1])**2) + (2.0/(12-u[1]-2*u[0])**2))]\n",
    "    ])"
   ]
  },
  {
   "cell_type": "markdown",
   "metadata": {},
   "source": [
    "### Dual Optimal Variables\n"
   ]
  },
  {
   "cell_type": "code",
   "execution_count": 732,
   "metadata": {},
   "outputs": [],
   "source": [
    "def dual_variables(u,t1):\n",
    "    return (1.0/t1)*np.array([1/(12-u[0]-2*u[1]), 1/(12-u[1]-2*u[0]), 1/(u[0]-d[0]), 1/(u[1]-d[1])])"
   ]
  },
  {
   "cell_type": "markdown",
   "metadata": {},
   "source": [
    "Given problem is converted into an unconstrained optimization problem with the objective function as &phi;(***u***) instead of the Nash Welfare function.  \n"
   ]
  },
  {
   "cell_type": "markdown",
   "metadata": {},
   "source": [
    "### Newton Descent Method\n",
    "For a tolerance level &eta; = 10<sup>-5</sup> and maximum iterations of 1000, the Newton Descent method is used to determine the unconstrained minimum for the optimization problem.  \n",
    "\n",
    "**u** is updated as **u**<sub>new</sub> = **u** - *&nabla; <sup>2</sup>(&phi;(**u**))<sup>-1</sup>.&nabla;(&phi;(**u**))*  \n",
    "**T** is updated as **T**<sub>new</sub> = **T**(1.0 + 1/(13&radic;&nu;)) &nbsp;&nbsp;&nbsp;&nbsp;&nbsp;&nbsp;&nbsp;&nbsp;&nbsp;&nbsp;&nbsp;&nbsp;&nbsp;&nbsp; where *&nu;* is a parameter associated with &phi;(***u***) and is set to 0.01\n"
   ]
  },
  {
   "cell_type": "code",
   "execution_count": 733,
   "metadata": {},
   "outputs": [],
   "source": [
    "def newton_descent(x,t2):\n",
    "  n = 1e-5\n",
    "  max_iter = 1000\n",
    "  for i in range(max_iter):\n",
    "    \n",
    "    hes = hess_phi(x,t2)\n",
    "\n",
    "    x_new = x - np.dot(np.linalg.inv(hes),grad_phi(x,t2))\n",
    "\n",
    "    if(np.linalg.norm(x_new - x)<=n):\n",
    "      return x\n",
    "  \n",
    "  return x_new"
   ]
  },
  {
   "cell_type": "code",
   "execution_count": 734,
   "metadata": {},
   "outputs": [
    {
     "name": "stderr",
     "output_type": "stream",
     "text": [
      "/var/folders/fx/m8jghh2j0xn7xvzxjj0rz1sr0000gn/T/ipykernel_40136/71203612.py:10: RuntimeWarning: divide by zero encountered in log\n",
      "  out += np.log(c)\n",
      "/var/folders/fx/m8jghh2j0xn7xvzxjj0rz1sr0000gn/T/ipykernel_40136/71203612.py:10: RuntimeWarning: invalid value encountered in log\n",
      "  out += np.log(c)\n"
     ]
    }
   ],
   "source": [
    "while((m/T)>tolerance):\n",
    "    u = minimize(phi, u, args = (T,), method='SLSQP', constraints = [{'type':'ineq','fun':c1},{'type':'ineq','fun':c2},{'type':'ineq','fun':c3},{'type':'ineq','fun':c4}]).x\n",
    "    # u = newton_descent(u,T)\n",
    "    T = T*(1 + 1.0/(13*np.sqrt(0.01)))\n",
    "\n",
    "dual_vars = dual_variables(u,T)"
   ]
  },
  {
   "cell_type": "code",
   "execution_count": 735,
   "metadata": {},
   "outputs": [
    {
     "name": "stdout",
     "output_type": "stream",
     "text": [
      "Initial t = 1.0\n",
      "Final t = 500084.19076267304\n",
      "\n",
      "Nash Bargaining solution: (4.00002273,3.99992228)\n",
      "Primal Optimal Value =  1.79174493\n",
      "\n",
      "Dual Optimal Variables:\n",
      "       f₁(u) = 0.01506754\n",
      "       f₂(u) = 0.06197595\n",
      "       f₃(u) = 0.00000100\n",
      "       f₄(u) = 0.00000067\n",
      "\n",
      "Ineqaulity Constraint Function Values:\n",
      "       f₁(u) = 0.00013271\n",
      "       f₂(u) = 0.00003227\n",
      "       f₃(u) = 2.00002273\n",
      "       f₄(u) = 2.99992228\n"
     ]
    }
   ],
   "source": [
    "print(\"Initial t = 1.0\\nFinal t = {:}\".format(T))\n",
    "print(\"\\nNash Bargaining solution: ({:.8f},{:.8f})\".format(u[0],u[1]))\n",
    "print(\"Primal Optimal Value =  {:.8f}\".format(-1*f(u)))\n",
    "print(\"\\nDual Optimal Variables:\\n       f\\u2081(u) = {:.8f}\\n       f\\u2082(u) = {:.8f}\\n       f\\u2083(u) = {:.8f}\\n       f\\u2084(u) = {:.8f}\".format(dual_vars[0],dual_vars[1],dual_vars[2],dual_vars[3]))\n",
    "print(\"\\nIneqaulity Constraint Function Values:\\n       f\\u2081(u) = {:.8f}\\n       f\\u2082(u) = {:.8f}\\n       f\\u2083(u) = {:.8f}\\n       f\\u2084(u) = {:.8f}\".format(12-u[0]-2*u[1],12-u[1]-2*u[0],u[0]-d[0],u[1]-d[1]))"
   ]
  }
 ],
 "metadata": {
  "interpreter": {
   "hash": "aee8b7b246df8f9039afb4144a1f6fd8d2ca17a180786b69acc140d282b71a49"
  },
  "kernelspec": {
   "display_name": "Python 3.10.4 64-bit",
   "language": "python",
   "name": "python3"
  },
  "language_info": {
   "codemirror_mode": {
    "name": "ipython",
    "version": 3
   },
   "file_extension": ".py",
   "mimetype": "text/x-python",
   "name": "python",
   "nbconvert_exporter": "python",
   "pygments_lexer": "ipython3",
   "version": "3.10.4"
  },
  "orig_nbformat": 4
 },
 "nbformat": 4,
 "nbformat_minor": 2
}
