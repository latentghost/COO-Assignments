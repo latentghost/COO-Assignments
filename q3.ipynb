{
  "cells": [
    {
      "cell_type": "code",
      "execution_count": 1,
      "metadata": {
        "id": "33vmDATmYV8R"
      },
      "outputs": [],
      "source": [
        "import numpy as np\n",
        "import math"
      ]
    },
    {
      "cell_type": "code",
      "execution_count": 2,
      "metadata": {
        "id": "ii8y7FIgYZ6o"
      },
      "outputs": [],
      "source": [
        "# g1(x1,x2)\n",
        "def g1(x):\n",
        "  return (2*x[1]) - x[0]\n",
        "\n",
        "# g2(x1,x2)\n",
        "def g2(x):\n",
        "  return (2*x[0]) - x[1]\n",
        "\n",
        "# g3(x1,x2)\n",
        "def g3(x):\n",
        "  return 1 - (x[0] + x[1])\n",
        "\n",
        "# Ψ(x) = - Σ (log(gi(x)))    for i = 1, 2, ..., n\n",
        "\n",
        "# For the given set of inequalities,\n",
        "# Ψ(x) = - Σ (log(gi(x)))    for i = 1, 2, 3\n",
        "# Ψ(x) = - (log(g1(x)) + log(g2(x)) + log(g3(x)))\n",
        "# Ψ(x) = log(1 / (g1(x) * g2(x) * g3(x)))\n",
        "\n",
        "def psi(x):\n",
        "  return math.log(1.0 / (g1(x) * g2(x) * g3(x)))\n",
        "\n",
        "# Minimising Ψ(x) = log(1 / (g1(x) * g2(x) * g3(x))) is equivalent\n",
        "# to minimising the function f(x) = 1 / (g1(x) * g2(x) * g3(x))\n",
        "# since log is a monotonically increasing function\n",
        "\n",
        "def f(x):\n",
        "  return (1.0 / (g1(x) * g2(x) * g3(x)))\n",
        "\n",
        "# Filler function for denominator of gradient\n",
        "def den(x):\n",
        "  return (((g1(x))**2) * ((g2(x))**2) * ((g3(x))**2))\n",
        "\n",
        "def grad(x):\n",
        "  \n",
        "  # df(x,y)/dx\n",
        "  dx = -1 * (6 * (x[0]**2) - 6*x[0]*x[1] - 4*x[0] - 3*(x[1]**2) + 5*x[1]) / (den(x))\n",
        "\n",
        "  #df(x,y)/dy\n",
        "  dy = (3*(x[0]**2) + 6*x[0]*x[1] - 5*x[0] - 6*(x[1]**2) + 4*x[1]) / (den(x))\n",
        "  \n",
        "  return np.array([dx,dy])"
      ]
    },
    {
      "cell_type": "code",
      "execution_count": 3,
      "metadata": {
        "id": "C1dgp72Xj-MA"
      },
      "outputs": [],
      "source": [
        "# Backtracking Line Search Subroutine with alpha = 0.1, beta = 0.3\n",
        "\n",
        "def lineSearch(v,d):\n",
        "  di = d[0]\n",
        "  dj = d[1]\n",
        "  a = 0.1\n",
        "  b = 0.3\n",
        "\n",
        "  # maintain previously obtained value of t since x is set as x + t * d\n",
        "  # and if x + t * d translates to a value < 0, it violates the domain of\n",
        "  # log(x); in order to keep track of last obtained t for which x + t * d > 0,\n",
        "  # the previous value is stored in a temporary variable\n",
        "  t = 1.0\n",
        "  prev = t\n",
        "\n",
        "  # inequality translated to: f(x+td) - f(x) > alpha * t * (grad_f(x).d)\n",
        "\n",
        "  while((f(v+t*d) > 0) and (f(v+t*d) - f(v) > a * t * np.dot(grad(v),d))):\n",
        "    prev = t\n",
        "    t = b*t\n",
        "\n",
        "  # checks if x + t * d is in the domain of f(x)\n",
        "  if(f(v+t*d) <= 0):\n",
        "    return prev\n",
        "  else:\n",
        "    return t\n",
        "\n",
        "\n",
        "# Generate Hessian of f(x,y) by approximating against (x1 + dx1,x2 + dx2) and\n",
        "# (x1 - dx1, x2 - dx2) where dx1 and dx2 are defaulted to 1e-6\n",
        "def hessian(x,dx = 1e-6):\n",
        "\n",
        "  # Calculating d^2f(x)/dx1^2 and d^2f(x)/dx1x2\n",
        "  hess = np.zeros((2,2))\n",
        "  xp = x.copy()\n",
        "  xn = x.copy()\n",
        "  xp[0] += dx\n",
        "  xn[0] -= dx\n",
        "  hess[0,:] = (np.array(grad(xp)) - np.array(grad(xn)))/(2*dx)\n",
        "\n",
        "  # Calculating d^2f(x)/dx1x2 and d^2f(x)/dx2^2\n",
        "  yp = x.copy()\n",
        "  yn = x.copy()\n",
        "  yp[1] += dx\n",
        "  yn[1] -= dx\n",
        "  hess[1,:] = (np.array(grad(yp)) - np.array(grad(yn)))/(2*dx)\n",
        "\n",
        "  return hess"
      ]
    },
    {
      "cell_type": "code",
      "execution_count": 4,
      "metadata": {
        "id": "FumojJbS0rWP"
      },
      "outputs": [],
      "source": [
        "# Combination Descent Algorithm with tolerance level n = 0.1\n",
        "\n",
        "def combnDescent(x):\n",
        "  n = 1e-5\n",
        "  while(np.linalg.norm(grad(x))>n):\n",
        "    \n",
        "    # Get Hessian H(f(x,y))\n",
        "    hes = hessian(x)\n",
        "\n",
        "    # Check if hessian is positive definite; if yes, descent\n",
        "    # direction is d = H^(-1)(f(x,y)).(-grad(f(x,y)))\n",
        "    eigvals = np.linalg.eigvals(hes)\n",
        "    if np.all(eigvals > 0):\n",
        "      d = np.linalg.inv(hes).dot(-grad(x))\n",
        "\n",
        "    # If not positive definite, descent direction is d = -grad(f(x,y))\n",
        "    else:\n",
        "      d = -grad(x)\n",
        "\n",
        "    # Find t using Line Search Subroutine\n",
        "    t = lineSearch(x,d)\n",
        "    x = x + t*d\n",
        "  \n",
        "  # Return unconstrained minimum of f(x)\n",
        "  return x"
      ]
    },
    {
      "cell_type": "code",
      "execution_count": 5,
      "metadata": {
        "id": "gJ6zW2vr1GZP"
      },
      "outputs": [
        {
          "name": "stdout",
          "output_type": "stream",
          "text": [
            "[x,y] where Ψ(x) takes minimum value: [0.33333333 0.33333333]\n",
            "\n",
            "Minimum value of Ψ(x) as approximated by Combination Descent Algorithm: 3.295836866004329\n"
          ]
        }
      ],
      "source": [
        "# Choose initial point as (0.25,0.25)\n",
        "a = np.array([0.25,0.25])\n",
        "\n",
        "print(\"[x,y] where Ψ(x) takes minimum value: \",end = \"\")\n",
        "minarr = combnDescent(a)\n",
        "print(minarr,end = \"\\n\\n\")\n",
        "\n",
        "# Ψ(x) at unconstrained minimum\n",
        "print(\"Minimum value of Ψ(x) as approximated by Combination Descent Algorithm: \",end = \"\")\n",
        "print(psi(minarr))"
      ]
    }
  ],
  "metadata": {
    "colab": {
      "private_outputs": true,
      "provenance": []
    },
    "kernelspec": {
      "display_name": "Python 3",
      "name": "python3"
    },
    "language_info": {
      "codemirror_mode": {
        "name": "ipython",
        "version": 3
      },
      "file_extension": ".py",
      "mimetype": "text/x-python",
      "name": "python",
      "nbconvert_exporter": "python",
      "pygments_lexer": "ipython3",
      "version": "3.10.4"
    }
  },
  "nbformat": 4,
  "nbformat_minor": 0
}
