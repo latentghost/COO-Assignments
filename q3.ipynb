{
 "cells": [
  {
   "cell_type": "code",
   "execution_count": 4,
   "metadata": {},
   "outputs": [],
   "source": [
    "import numpy as np"
   ]
  },
  {
   "cell_type": "code",
   "execution_count": 16,
   "metadata": {},
   "outputs": [],
   "source": [
    "def f(u,d):\n",
    "    return -1*(np.log(u[0] - d[0]) + np.log(u[1] - d[1]))"
   ]
  },
  {
   "cell_type": "code",
   "execution_count": 13,
   "metadata": {},
   "outputs": [],
   "source": [
    "def B(u,d):\n",
    "    constraints = [\n",
    "        12 - u[0] - 2*u[1],\n",
    "        12 - u[1] - 2*u[0],\n",
    "        u[0] - d[0],\n",
    "        u[1] - d[1]\n",
    "    ]\n",
    "    out = 0.0\n",
    "    for c in constraints:\n",
    "        out += np.log(c)\n",
    "    return -1*out"
   ]
  },
  {
   "cell_type": "code",
   "execution_count": 8,
   "metadata": {},
   "outputs": [],
   "source": [
    "def phi(u,d,t):\n",
    "    return (f(u,d) + (1.0/t)*B(u,d))"
   ]
  },
  {
   "cell_type": "code",
   "execution_count": 5,
   "metadata": {},
   "outputs": [],
   "source": [
    "def newton_descent(f, grad_f, hess_f, x0, eps=1e-5, max_iter=100):\n",
    "    x = x0\n",
    "    for i in range(max_iter):\n",
    "        grad = grad_f(x)\n",
    "        hess = hess_f(x)\n",
    "        p = np.linalg.solve(hess, -grad)\n",
    "        x = x + p\n",
    "        if np.linalg.norm(p) < eps:\n",
    "            break\n",
    "    return x"
   ]
  },
  {
   "cell_type": "code",
   "execution_count": 17,
   "metadata": {},
   "outputs": [
    {
     "name": "stdout",
     "output_type": "stream",
     "text": [
      "-2.772588722239781\n"
     ]
    }
   ],
   "source": [
    "d = np.array([2,1])\n",
    "u = np.array([4,2])\n",
    "mu = 1e-4\n",
    "\n",
    "\n",
    "print(B(u,d))"
   ]
  },
  {
   "cell_type": "code",
   "execution_count": null,
   "metadata": {},
   "outputs": [],
   "source": []
  }
 ],
 "metadata": {
  "interpreter": {
   "hash": "aee8b7b246df8f9039afb4144a1f6fd8d2ca17a180786b69acc140d282b71a49"
  },
  "kernelspec": {
   "display_name": "Python 3.10.4 64-bit",
   "language": "python",
   "name": "python3"
  },
  "language_info": {
   "codemirror_mode": {
    "name": "ipython",
    "version": 3
   },
   "file_extension": ".py",
   "mimetype": "text/x-python",
   "name": "python",
   "nbconvert_exporter": "python",
   "pygments_lexer": "ipython3",
   "version": "3.10.4"
  },
  "orig_nbformat": 4
 },
 "nbformat": 4,
 "nbformat_minor": 2
}
