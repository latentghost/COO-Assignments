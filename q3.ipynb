{
 "cells": [
  {
   "cell_type": "code",
   "execution_count": 165,
   "metadata": {},
   "outputs": [],
   "source": [
    "import numpy as np"
   ]
  },
  {
   "cell_type": "code",
   "execution_count": 166,
   "metadata": {},
   "outputs": [],
   "source": [
    "d = np.array([2,1])\n",
    "u = np.array([4,2])\n",
    "T = 1.0\n",
    "m = 4\n",
    "tolerance = 1e-5\n",
    "max_iter = 1000\n"
   ]
  },
  {
   "cell_type": "code",
   "execution_count": 167,
   "metadata": {},
   "outputs": [],
   "source": [
    "def f(u):\n",
    "    return -1*(np.log(u[0] - d[0]) + np.log(u[1] - d[1]))"
   ]
  },
  {
   "cell_type": "code",
   "execution_count": 168,
   "metadata": {},
   "outputs": [],
   "source": [
    "def B(u):\n",
    "    constraints = [\n",
    "        12 - u[0] - 2*u[1],\n",
    "        12 - u[1] - 2*u[0],\n",
    "        u[0] - d[0],\n",
    "        u[1] - d[1]\n",
    "    ]\n",
    "    out = 0.0\n",
    "    for c in constraints:\n",
    "        out += np.log(c)\n",
    "    return -1*out"
   ]
  },
  {
   "cell_type": "code",
   "execution_count": 169,
   "metadata": {},
   "outputs": [],
   "source": [
    "def phi(u,t1):\n",
    "    return (f(u) + (1.0/t1)*B(u))"
   ]
  },
  {
   "cell_type": "code",
   "execution_count": 170,
   "metadata": {},
   "outputs": [],
   "source": [
    "def grad_phi(u,t1):\n",
    "    return np.array([\n",
    "        (-1.0/(u[0]-d[0])) - (1.0/t1) * ((2.0/(12-u[0]-2*u[1])) + (2.0/(12-u[1]-2*u[0]))),\n",
    "        (-1.0/(u[1]-d[1])) - (1.0/t1) * ((2.0/(12-u[0]-2*u[1])) + (2.0/(12-u[1]-2*u[0])))\n",
    "    ])"
   ]
  },
  {
   "cell_type": "code",
   "execution_count": 171,
   "metadata": {},
   "outputs": [],
   "source": [
    "def hess_phi(u,t1):\n",
    "    return np.array([\n",
    "        [(1.0/(u[0]-d[0])**2) + 2.0/t1*((2.0/(12-u[0]-2*u[1])**2) + (2.0/(12-u[1]-2*u[0])**2)), \n",
    "         4.0/t1*(1.0/(12-u[0]-2*u[1])**2) - 2.0/(u[0]-d[0])**2], \n",
    "        [4.0/t1*(1.0/(12-u[1]-2*u[0])**2) - 2.0/(u[1]-d[1])**2, \n",
    "         (1.0/(u[1]-d[1])**2) + 2.0/t1*((2.0/(12-u[0]-2*u[1])**2) + (2.0/(12-u[1]-2*u[0])**2))]\n",
    "    ])"
   ]
  },
  {
   "cell_type": "code",
   "execution_count": 172,
   "metadata": {},
   "outputs": [],
   "source": [
    "def newton_descent(x,t2):\n",
    "  n = 1e-5\n",
    "  max_iter = 1000\n",
    "  for i in range(max_iter):\n",
    "    \n",
    "    # Get Hessian H(f(x,y))\n",
    "    hes = hess_phi(x,t2)\n",
    "\n",
    "    x_new = x - np.dot(np.linalg.inv(hes),grad_phi(x,t2))\n",
    "\n",
    "    if(np.linalg.norm(x_new - x)<=n):\n",
    "      return x\n",
    "  \n",
    "  # Return unconstrained minimum of f(x)\n",
    "  return x_new"
   ]
  },
  {
   "cell_type": "code",
   "execution_count": 173,
   "metadata": {},
   "outputs": [
    {
     "name": "stdout",
     "output_type": "stream",
     "text": [
      "[4 2] 1.0\n",
      "[5.64 3.84] 1.7692307692307692\n",
      "[5.42767568 3.31397981] 3.130177514792899\n",
      "[5.4272942  3.28652589] 5.538006372325898\n",
      "[5.42729418 3.28635294] 9.798011274115051\n",
      "[5.42729418 3.28635294] 17.33494302343432\n",
      "[5.42729418 3.28635294] 30.669514579922257\n",
      "[5.42729418 3.28635294] 54.26144887217014\n",
      "[5.42729418 3.28635294] 96.00102492768563\n",
      "[5.42729418 3.28635294] 169.8479671797515\n",
      "[5.42729418 3.28635294] 300.50024962571416\n",
      "[5.42729418 3.28635294] 531.6542877993404\n",
      "[5.42729418 3.28635294] 940.6191245680637\n",
      "[5.42729418 3.28635294] 1664.172297312728\n",
      "[5.42729418 3.28635294] 2944.304833707134\n",
      "[5.42729418 3.28635294] 5209.154705789545\n",
      "[5.42729418 3.28635294] 9216.196787166118\n",
      "[5.42729418 3.28635294] 16305.578931140055\n",
      "[5.42729418 3.28635294] 28848.33195509394\n",
      "[5.42729418 3.28635294] 51039.35653593543\n",
      "[5.42729418 3.28635294] 90300.40002511653\n",
      "[5.42729418 3.28635294] 159762.24619828307\n",
      "[5.42729418 3.28635294] 282656.2817354239\n"
     ]
    }
   ],
   "source": [
    "while((m/T)>tolerance):\n",
    "    print(u,T)\n",
    "    u = newton_descent(u,T)\n",
    "    T = T*(1 + 1.0/(13*np.sqrt(0.01)))\n"
   ]
  },
  {
   "cell_type": "code",
   "execution_count": null,
   "metadata": {},
   "outputs": [],
   "source": []
  }
 ],
 "metadata": {
  "interpreter": {
   "hash": "aee8b7b246df8f9039afb4144a1f6fd8d2ca17a180786b69acc140d282b71a49"
  },
  "kernelspec": {
   "display_name": "Python 3.10.4 64-bit",
   "language": "python",
   "name": "python3"
  },
  "language_info": {
   "codemirror_mode": {
    "name": "ipython",
    "version": 3
   },
   "file_extension": ".py",
   "mimetype": "text/x-python",
   "name": "python",
   "nbconvert_exporter": "python",
   "pygments_lexer": "ipython3",
   "version": "3.10.4"
  },
  "orig_nbformat": 4
 },
 "nbformat": 4,
 "nbformat_minor": 2
}
