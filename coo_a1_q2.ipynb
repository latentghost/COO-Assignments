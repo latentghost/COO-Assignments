{
  "cells": [
    {
      "cell_type": "code",
      "execution_count": 1,
      "metadata": {
        "id": "aIutyZEcSmp8"
      },
      "outputs": [],
      "source": [
        "import numpy as np\n",
        "import math"
      ]
    },
    {
      "cell_type": "code",
      "execution_count": 2,
      "metadata": {
        "id": "XwL0BFbdWdbQ"
      },
      "outputs": [],
      "source": [
        "# f(x,y)\n",
        "def f(x,y):\n",
        "  return (x**2 - 3*y**2)**2 + (np.sin(x**2 + y**2))**2\n",
        "\n",
        "# df(x,y)/dx\n",
        "def fx(x,y):\n",
        "  return (2*x * (2 * (x**2) - 6 * (y**2) + np.sin(2 * (x**2 + y**2))))\n",
        "\n",
        "\n",
        "# df(x,y)/dy\n",
        "def fy(x,y):\n",
        "  return (2*y * (-6 * (x**2) + 18 * (y**2) + np.sin(2 * (x**2 + y**2))))\n",
        "\n",
        "\n",
        "# d^2f(x,y)/dx^2\n",
        "def fxx(x,y):\n",
        "  return (8 * (x**2) * np.cos(2 * (x**2 + y**2)) + 12 * (x**2 - y**2) + 2 * np.sin(2 * (x**2 + y**2)))\n",
        "\n",
        "# d^2f(x,y)/dxy\n",
        "def fxy(x,y):\n",
        "  return (8 * x * y * (np.cos(2 * (x**2 + y**2)) - 3))\n",
        "\n",
        "\n",
        "# d^2f(x,y)/dy^2\n",
        "def fyy(x,y):\n",
        "  return (-12 * (x**2) + 8 * (y**2) * np.cos(2 * (x**2 + y**2)) + 108 * (y**2) + 2 * np.sin(2 * (x**2 + y**2)))\n",
        "\n",
        "\n",
        "# grad(f(x,y))\n",
        "def grad(x,y):\n",
        "  return np.array([fx(x,y),fy(x,y)])\n",
        "\n",
        "# | grad(f(x,y)) |\n",
        "def modgr(x,y):\n",
        "  return np.linalg.norm(grad(x,y))"
      ]
    },
    {
      "cell_type": "code",
      "execution_count": 3,
      "metadata": {
        "id": "HL4LxfKpXM1k"
      },
      "outputs": [],
      "source": [
        "# Backtracking Line Search Subroutine with alpha = 0.1, beta = 0.3\n",
        "\n",
        "def lineSearch(x,y,d):\n",
        "  di = d[0]\n",
        "  dj = d[1]\n",
        "  a = 0.1\n",
        "  b = 0.3\n",
        "  t = 1.0\n",
        "\n",
        "  # inequality translated to: f(u+td) - f(u) > alpha * t * (grad_f(u).d)\n",
        "  #                     where u = (x, y)\n",
        "  #                           d = (di, dj)\n",
        "\n",
        "  while(f(x+t*di,y+t*dj) - f(x,y) > a * t * (fx(x,y)*di + fy(x,y)*dj)):\n",
        "    t = b*t\n",
        "  return t\n",
        "\n",
        "\n",
        "# Generate Hessian of f(x,y)\n",
        "def hessian(x,y):\n",
        "  return np.array([[fxx(x,y),fxy(x,y)],[fxy(x,y),fyy(x,y)]])"
      ]
    },
    {
      "cell_type": "code",
      "execution_count": 4,
      "metadata": {
        "id": "cA9IxLG4dIh3"
      },
      "outputs": [],
      "source": [
        "# Combination Descent Algorithm\n",
        "\n",
        "def combnDescent(x,y):\n",
        "\n",
        "  # Tolerance level n = 1e-5\n",
        "  n = 1e-5\n",
        "  while(modgr(x,y)>n):\n",
        "    \n",
        "    #Get Hessian H(f(x,y))\n",
        "    hes = hessian(x,y)\n",
        "\n",
        "    # Check if hessian is positive definite; if yes, descent\n",
        "    # direction is d = H^(-1)(f(x,y)).(-grad(f(x,y)))\n",
        "    eigvals = np.linalg.eigvals(hes)\n",
        "    if np.all(eigvals > 0):\n",
        "      d = np.linalg.inv(hes).dot(-grad(x,y))\n",
        "\n",
        "    # If not positive definite, descent direction is d = -grad(f(x,y))\n",
        "    else:\n",
        "      d = -grad(x,y)\n",
        "\n",
        "    # Find t using Line Search Subroutine\n",
        "    t = lineSearch(x,y,d)\n",
        "\n",
        "    # u = u + t*d\n",
        "    #     where u = (x,y)\n",
        "    x = x + t*d[0]\n",
        "    y = y + t*d[1]\n",
        "  \n",
        "  # Return unconstrained minimum of f(x,y)\n",
        "  return np.array([x,y])"
      ]
    },
    {
      "cell_type": "code",
      "execution_count": 5,
      "metadata": {
        "id": "dNGp2yLml5gF"
      },
      "outputs": [
        {
          "name": "stdout",
          "output_type": "stream",
          "text": [
            "[x  y] where f(x) takes minimum value: [0.0106475  0.00466658]\n",
            "\n",
            "Minimum value of f(x) as approximated by Combination Descent Algorithm: 2.0572158180862384e-08\n"
          ]
        }
      ],
      "source": [
        "# Choose initial point as (1,1)\n",
        "a = np.array([1,1])\n",
        "\n",
        "print(\"[x  y] where f(x) takes minimum value: \",end = \"\")\n",
        "minarr = combnDescent(a[0],a[1])\n",
        "print(minarr,end =\"\\n\\n\")\n",
        "\n",
        "# f(x,y) at unconstrained minimum\n",
        "print(\"Minimum value of f(x) as approximated by Combination Descent Algorithm: \",end = \"\")\n",
        "print(f(minarr[0],minarr[1]))"
      ]
    }
  ],
  "metadata": {
    "colab": {
      "private_outputs": true,
      "provenance": []
    },
    "kernelspec": {
      "display_name": "Python 3",
      "name": "python3"
    },
    "language_info": {
      "codemirror_mode": {
        "name": "ipython",
        "version": 3
      },
      "file_extension": ".py",
      "mimetype": "text/x-python",
      "name": "python",
      "nbconvert_exporter": "python",
      "pygments_lexer": "ipython3",
      "version": "3.10.4"
    }
  },
  "nbformat": 4,
  "nbformat_minor": 0
}
