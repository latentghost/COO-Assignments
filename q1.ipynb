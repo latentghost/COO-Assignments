{
 "cells": [
  {
   "cell_type": "code",
   "execution_count": 70,
   "metadata": {},
   "outputs": [],
   "source": [
    "import numpy as np\n",
    "import matplotlib.pyplot as plt\n",
    "import cvxpy as cp"
   ]
  },
  {
   "cell_type": "markdown",
   "metadata": {},
   "source": [
    "### Problem Definition\n",
    "The given conditions can be seen as a **Convex Optimisation Problem** where the objective function is the weighted utilitarian criterion, with the payoff vectors as the problem variables and weight of player 1's utilitarian as the problem parameter.  \n",
    "\n",
    "The feasible set *F* is defined as the set of payoff vectors {*u<sub>1</sub>,u<sub>2</sub>*} that follow the inequality constraints associated with the problem."
   ]
  },
  {
   "cell_type": "markdown",
   "metadata": {},
   "source": [
    "### Defining the variables\n",
    "&nbsp;&nbsp;&nbsp;&nbsp;&nbsp;&nbsp;**&theta;** ∈ [0,1]  \n",
    "&nbsp;&nbsp;&nbsp;&nbsp;&nbsp;&nbsp;**d** = {3.5,2}  \n",
    "&nbsp;&nbsp;&nbsp;&nbsp;&nbsp;&nbsp;**u** = {u1,u2}  \n",
    "&nbsp;&nbsp;&nbsp;&nbsp;&nbsp;&nbsp;**&theta;**<sub>opt</sub> is the value of **&theta;** such that it minimises the objective function\n"
   ]
  },
  {
   "cell_type": "code",
   "execution_count": 71,
   "metadata": {},
   "outputs": [],
   "source": [
    "theta_range = np.linspace(0,1,1000)\n",
    "d = np.array([3.5,2])\n",
    "u = cp.Variable(2)\n",
    "opt = cp.Parameter()"
   ]
  },
  {
   "cell_type": "markdown",
   "metadata": {},
   "source": [
    "### Defining the Inequality Constraints\n",
    "&nbsp;&nbsp;&nbsp;&nbsp;&nbsp;&nbsp;*f<sub>1</sub>(x): &nbsp;&nbsp; u<sub>1</sub> + 2u<sub>2</sub> <= 12*  \n",
    "&nbsp;&nbsp;&nbsp;&nbsp;&nbsp;&nbsp;*f<sub>2</sub>(x): &nbsp;&nbsp; 2u<sub>1</sub> + u<sub>2</sub> <= 12*  \n",
    "&nbsp;&nbsp;&nbsp;&nbsp;&nbsp;&nbsp;*f<sub>3</sub>(x): &nbsp;&nbsp; u<sub>1</sub> <= d<sub>1</sub>*  \n",
    "&nbsp;&nbsp;&nbsp;&nbsp;&nbsp;&nbsp;*f<sub>4</sub>(x): &nbsp;&nbsp; u<sub>2</sub> <= d<sub>2</sub>*  "
   ]
  },
  {
   "cell_type": "code",
   "execution_count": 72,
   "metadata": {},
   "outputs": [],
   "source": [
    "fi = [\n",
    "    u[0]+2*u[1]<=12,\n",
    "    2*u[0]+u[1]<=12,\n",
    "    u[0]>=d[0],\n",
    "    u[1]>=d[1]\n",
    "]"
   ]
  },
  {
   "cell_type": "markdown",
   "metadata": {},
   "source": [
    "### Defining the Objective Function\n",
    "\n",
    "&nbsp;&nbsp;&nbsp;&nbsp;&nbsp;&nbsp;*f<sub>0</sub>(x): &nbsp; &theta;u<sub>1</sub> + (1-&theta;)u<sub>2</sub> &nbsp;&nbsp;&nbsp; where &theta; ∈ [0,1]*  \n",
    "\n",
    "The solution of the problem **&theta;**<sub>opt</sub> is defined as:  \n",
    "&nbsp;&nbsp;&nbsp;&nbsp;&nbsp;&nbsp;**&theta;**<sub>opt</sub> = argmin *<sub>u<sub>1</sub>,u<sub>2</sub></sub> f<sub>0</sub>(x)* &nbsp;&nbsp;&nbsp; such that (*u<sub>1</sub>,u<sub>2</sub>*) ∈ *F*  \n",
    "\n",
    "&nbsp;&nbsp;&nbsp;&nbsp;&nbsp;&nbsp; subject to *f<sub>i</sub>*(*x*) <= 0 &nbsp;&nbsp;&nbsp;&nbsp;&nbsp;&nbsp;&nbsp;&nbsp;&nbsp;&nbsp;&nbsp;&nbsp; *i = 1,2,...,m*"
   ]
  },
  {
   "cell_type": "code",
   "execution_count": 73,
   "metadata": {},
   "outputs": [],
   "source": [
    "f0 = cp.Minimize(-1*(opt*u[0] + (1-opt)*u[1]))"
   ]
  },
  {
   "cell_type": "markdown",
   "metadata": {},
   "source": [
    "For each *&theta;* ∈ [0,1], the value of *u<sub>1</sub>* is calculated at *&theta;* i.e. *u<sub>1</sub>*(*&theta;*) and plotted as a plot of *u<sub>1</sub>*(*&theta;*) vs *&theta;*  "
   ]
  },
  {
   "cell_type": "code",
   "execution_count": 74,
   "metadata": {},
   "outputs": [],
   "source": [
    "y_arr = []\n",
    "for theta in theta_range:\n",
    "    opt.value = theta\n",
    "    problem = cp.Problem(f0,fi)\n",
    "    problem.solve()\n",
    "    y_arr.append(u.value[0])"
   ]
  },
  {
   "cell_type": "code",
   "execution_count": 75,
   "metadata": {},
   "outputs": [
    {
     "data": {
      "image/png": "[encoded data removed]",
      "text/plain": [
       "<Figure size 432x288 with 1 Axes>"
      ]
     },
     "metadata": {
      "needs_background": "light"
     },
     "output_type": "display_data"
    }
   ],
   "source": [
    "plt.plot(theta_range,y_arr,color='red')\n",
    "plt.xlabel(\"θ\")\n",
    "plt.ylabel(\"u1(θ)\")\n",
    "plt.show()"
   ]
  }
 ],
 "metadata": {
  "interpreter": {
   "hash": "aee8b7b246df8f9039afb4144a1f6fd8d2ca17a180786b69acc140d282b71a49"
  },
  "kernelspec": {
   "display_name": "Python 3.10.4 64-bit",
   "language": "python",
   "name": "python3"
  },
  "language_info": {
   "codemirror_mode": {
    "name": "ipython",
    "version": 3
   },
   "file_extension": ".py",
   "mimetype": "text/x-python",
   "name": "python",
   "nbconvert_exporter": "python",
   "pygments_lexer": "ipython3",
   "version": "3.10.4"
  },
  "orig_nbformat": 4
 },
 "nbformat": 4,
 "nbformat_minor": 2
}
